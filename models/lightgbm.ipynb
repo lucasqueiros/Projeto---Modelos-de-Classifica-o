{
 "cells": [
  {
   "cell_type": "markdown",
   "metadata": {},
   "source": [
    "# LightGBM"
   ]
  },
  {
   "cell_type": "code",
   "execution_count": 1,
   "metadata": {},
   "outputs": [],
   "source": [
    "import lightgbm as lgb\n",
    "import pandas as pd\n",
    "from sklearn.metrics import accuracy_score, confusion_matrix, classification_report\n",
    "from sklearn.model_selection import KFold\n",
    "from sklearn.model_selection import cross_val_score"
   ]
  },
  {
   "cell_type": "markdown",
   "metadata": {},
   "source": [
    "## Importando os dados"
   ]
  },
  {
   "cell_type": "code",
   "execution_count": 2,
   "metadata": {},
   "outputs": [],
   "source": [
    "Y_treino = pd.read_csv('/home/lucasqueiros/DataScience/Projeto-Classificacao/data/processed/Y_treino.csv', sep=',', encoding='utf-8')\n",
    "Y_teste = pd.read_csv('/home/lucasqueiros/DataScience/Projeto-Classificacao/data/processed/Y_teste.csv', sep=',', encoding='utf-8')\n",
    "\n",
    "X_esc_treino = pd.read_csv('/home/lucasqueiros/DataScience/Projeto-Classificacao/data/processed/X_esc_treino.csv', sep=',', encoding='utf-8')\n",
    "X_esc_teste = pd.read_csv('/home/lucasqueiros/DataScience/Projeto-Classificacao/data/processed/X_esc_teste.csv', sep=',', encoding='utf-8')"
   ]
  },
  {
   "cell_type": "code",
   "execution_count": 3,
   "metadata": {},
   "outputs": [],
   "source": [
    "Y_teste = Y_teste.iloc[:, 1].values\n",
    "Y_treino = Y_treino.iloc[:, 1].values\n",
    "\n",
    "X_esc_teste = X_esc_teste.iloc[:, 1:].values\n",
    "X_esc_treino = X_esc_treino.iloc[:, 1:].values"
   ]
  },
  {
   "cell_type": "markdown",
   "metadata": {},
   "source": [
    "### Treinando modelo com dados escalonados"
   ]
  },
  {
   "cell_type": "code",
   "execution_count": 4,
   "metadata": {},
   "outputs": [],
   "source": [
    "# Dataset para treino\n",
    "dataset = lgb.Dataset(X_esc_treino,label=Y_treino)"
   ]
  },
  {
   "cell_type": "code",
   "execution_count": 5,
   "metadata": {},
   "outputs": [],
   "source": [
    "# Parâmetros\n",
    "parametros = {'num_leaves':250, # número de folhas\n",
    "              'objective':'binary', # classificação Binária\n",
    "              'max_depth':2,\n",
    "              'learning_rate':.05,\n",
    "              'max_bin':100}"
   ]
  },
  {
   "cell_type": "code",
   "execution_count": 6,
   "metadata": {},
   "outputs": [
    {
     "name": "stdout",
     "output_type": "stream",
     "text": [
      "[LightGBM] [Info] Number of positive: 149, number of negative: 249\n",
      "[LightGBM] [Info] Auto-choosing col-wise multi-threading, the overhead of testing was 0.039864 seconds.\n",
      "You can set `force_col_wise=true` to remove the overhead.\n",
      "[LightGBM] [Info] Total Bins 3000\n",
      "[LightGBM] [Info] Number of data points in the train set: 398, number of used features: 30\n",
      "[LightGBM] [Info] [binary:BoostFromScore]: pavg=0.374372 -> initscore=-0.513507\n",
      "[LightGBM] [Info] Start training from score -0.513507\n",
      "[LightGBM] [Warning] No further splits with positive gain, best gain: -inf\n",
      "[LightGBM] [Warning] No further splits with positive gain, best gain: -inf\n"
     ]
    }
   ],
   "source": [
    "lgbm=lgb.train(parametros,dataset,num_boost_round=200)"
   ]
  },
  {
   "cell_type": "code",
   "execution_count": 7,
   "metadata": {},
   "outputs": [
    {
     "name": "stdout",
     "output_type": "stream",
     "text": [
      "[LightGBM] [Info] Number of positive: 149, number of negative: 249\n",
      "[LightGBM] [Info] Auto-choosing col-wise multi-threading, the overhead of testing was 0.002500 seconds.\n",
      "You can set `force_col_wise=true` to remove the overhead.\n",
      "[LightGBM] [Info] Total Bins 3000\n",
      "[LightGBM] [Info] Number of data points in the train set: 398, number of used features: 30\n",
      "[LightGBM] [Info] [binary:BoostFromScore]: pavg=0.374372 -> initscore=-0.513507\n",
      "[LightGBM] [Info] Start training from score -0.513507\n"
     ]
    },
    {
     "data": {
      "text/plain": [
       "datetime.timedelta(microseconds=330181)"
      ]
     },
     "execution_count": 7,
     "metadata": {},
     "output_type": "execute_result"
    }
   ],
   "source": [
    "# Marcação do tempo de execução\n",
    "from datetime import datetime\n",
    "inicio=datetime.now()\n",
    "lgbm=lgb.train(parametros,dataset)\n",
    "fim=datetime.now()\n",
    "\n",
    "tempo = fim - inicio\n",
    "tempo"
   ]
  },
  {
   "cell_type": "code",
   "execution_count": 8,
   "metadata": {},
   "outputs": [
    {
     "data": {
      "text/plain": [
       "array([0.05133969, 0.99538632, 0.96806163, 0.0217888 , 0.0056528 ,\n",
       "       0.99383555, 0.99537121, 0.83355951, 0.78402288, 0.02211905,\n",
       "       0.04679442, 0.97419976, 0.03643123, 0.91895469, 0.00913194,\n",
       "       0.99278396, 0.01230597, 0.00932864, 0.00873632, 0.98847947,\n",
       "       0.07885895, 0.01100535, 0.99414146, 0.0212633 , 0.02308752,\n",
       "       0.02674436, 0.01385819, 0.03104458, 0.00978392, 0.99323799,\n",
       "       0.0143739 , 0.00830348, 0.07509882, 0.01230597, 0.00833478,\n",
       "       0.01195714, 0.60731527, 0.01557847, 0.99183926, 0.06237738,\n",
       "       0.00881286, 0.9857767 , 0.01704145, 0.00916102, 0.0730617 ,\n",
       "       0.03961807, 0.00664712, 0.05780722, 0.04499901, 0.01142438,\n",
       "       0.99307528, 0.99414146, 0.10506058, 0.06764897, 0.00808739,\n",
       "       0.01531771, 0.00926869, 0.99577714, 0.94542244, 0.00803507,\n",
       "       0.01028324, 0.99066065, 0.99577714, 0.05315163, 0.0130031 ,\n",
       "       0.06550726, 0.99323799, 0.99383555, 0.01064915, 0.02159393,\n",
       "       0.97978415, 0.99161733, 0.01457199, 0.99186828, 0.03271603,\n",
       "       0.02512978, 0.04450581, 0.21787114, 0.00563285, 0.04103495,\n",
       "       0.97199957, 0.00844751, 0.3027051 , 0.99239017, 0.87033596,\n",
       "       0.96775569, 0.95238656, 0.99464123, 0.04053324, 0.00817355,\n",
       "       0.01527626, 0.28155922, 0.0623084 , 0.03457607, 0.0148365 ,\n",
       "       0.00884345, 0.99252994, 0.99323799, 0.00744474, 0.99181867,\n",
       "       0.93467933, 0.00744474, 0.96625297, 0.9892262 , 0.03946069,\n",
       "       0.01478867, 0.02351812, 0.98499326, 0.6805778 , 0.06987376,\n",
       "       0.98124421, 0.00713225, 0.28413977, 0.99596209, 0.39694961,\n",
       "       0.99414146, 0.0053776 , 0.04370401, 0.02077697, 0.9928628 ,\n",
       "       0.33168371, 0.00607636, 0.0082887 , 0.98896802, 0.09531861,\n",
       "       0.99561181, 0.99137264, 0.00838512, 0.01419457, 0.99323799,\n",
       "       0.96013415, 0.99255668, 0.02863359, 0.01297936, 0.10689202,\n",
       "       0.94955065, 0.48843288, 0.01714643, 0.0766786 , 0.99113141,\n",
       "       0.01119212, 0.99638388, 0.00548047, 0.00569774, 0.96635467,\n",
       "       0.00978392, 0.99271561, 0.99252994, 0.69987008, 0.01069307,\n",
       "       0.88122946, 0.00789953, 0.00710214, 0.01635233, 0.02690965,\n",
       "       0.99273425, 0.9826208 , 0.03466071, 0.02578785, 0.00964745,\n",
       "       0.01195714, 0.01457229, 0.00897247, 0.02544245, 0.38072933,\n",
       "       0.01120442, 0.00946445, 0.11684306, 0.02305839, 0.88255036,\n",
       "       0.0881167 ])"
      ]
     },
     "execution_count": 8,
     "metadata": {},
     "output_type": "execute_result"
    }
   ],
   "source": [
    "previsoes_lgbm = lgbm.predict(X_esc_teste)\n",
    "previsoes_lgbm"
   ]
  },
  {
   "cell_type": "code",
   "execution_count": 9,
   "metadata": {},
   "outputs": [
    {
     "data": {
      "text/plain": [
       "(171,)"
      ]
     },
     "execution_count": 9,
     "metadata": {},
     "output_type": "execute_result"
    }
   ],
   "source": [
    "previsoes_lgbm.shape"
   ]
  },
  {
   "cell_type": "code",
   "execution_count": 10,
   "metadata": {},
   "outputs": [],
   "source": [
    "# Quando for menor que 5 considera 0 e quando for maior ou igual a 5 considera 1\n",
    "for i in range(0, 171):\n",
    "    if previsoes_lgbm[i] >= .5:\n",
    "       previsoes_lgbm[i] = 1\n",
    "    else:\n",
    "       previsoes_lgbm[i] = 0"
   ]
  },
  {
   "cell_type": "code",
   "execution_count": 11,
   "metadata": {},
   "outputs": [
    {
     "name": "stdout",
     "output_type": "stream",
     "text": [
      "Acurácia: 96.49%\n"
     ]
    }
   ],
   "source": [
    "print(\"Acurácia: %.2f%%\" % (accuracy_score(Y_teste, previsoes_lgbm) * 100.0))"
   ]
  },
  {
   "cell_type": "code",
   "execution_count": 12,
   "metadata": {},
   "outputs": [
    {
     "data": {
      "text/plain": [
       "array([[106,   2],\n",
       "       [  4,  59]])"
      ]
     },
     "execution_count": 12,
     "metadata": {},
     "output_type": "execute_result"
    }
   ],
   "source": [
    "confusion_matrix(Y_teste, previsoes_lgbm)"
   ]
  },
  {
   "cell_type": "markdown",
   "metadata": {},
   "source": [
    "### Análise com dados de treino"
   ]
  },
  {
   "cell_type": "code",
   "execution_count": 17,
   "metadata": {},
   "outputs": [
    {
     "data": {
      "text/plain": [
       "array([0.01265096, 0.01256404, 0.08754191, 0.00657121, 0.03426177,\n",
       "       0.68124018, 0.03194046, 0.00871238, 0.01856654, 0.02245127,\n",
       "       0.0256682 , 0.0127964 , 0.95980012, 0.98995271, 0.94210948,\n",
       "       0.31519721, 0.02591163, 0.95422768, 0.03942848, 0.99309443,\n",
       "       0.01541359, 0.0106324 , 0.0167273 , 0.00838512, 0.9258451 ,\n",
       "       0.15548032, 0.00881958, 0.98258915, 0.0112118 , 0.02552573,\n",
       "       0.06685553, 0.99239017, 0.00789385, 0.99625253, 0.99276728,\n",
       "       0.0079825 , 0.01478931, 0.03522682, 0.73018294, 0.00793005,\n",
       "       0.01258736, 0.01168292, 0.00744474, 0.88930248, 0.01018751,\n",
       "       0.01452215, 0.00581597, 0.00562912, 0.00906533, 0.98952286,\n",
       "       0.03656666, 0.99625253, 0.99323799, 0.00713631, 0.02034052,\n",
       "       0.99239017, 0.02403782, 0.00496252, 0.02518931, 0.01100535,\n",
       "       0.06809973, 0.05703842, 0.01046641, 0.64806996, 0.98731192,\n",
       "       0.99625253, 0.00639845, 0.03386349, 0.99596209, 0.02346973,\n",
       "       0.01328138, 0.94838291, 0.02354768, 0.90600534, 0.00527587,\n",
       "       0.98434852, 0.00739039, 0.75343558, 0.00897247, 0.07565716,\n",
       "       0.99177653, 0.01819982, 0.01268406, 0.12004652, 0.89873653,\n",
       "       0.0087299 , 0.99414146, 0.04134912, 0.99292561, 0.01730576,\n",
       "       0.9740039 , 0.01168857, 0.35407461, 0.98468543, 0.03402902,\n",
       "       0.00744474, 0.03391407, 0.00678976, 0.96457593, 0.0348065 ,\n",
       "       0.01138497, 0.04480157, 0.99484319, 0.09025014, 0.0079825 ,\n",
       "       0.75414803, 0.16199287, 0.01145495, 0.99239017, 0.01255211,\n",
       "       0.01322661, 0.02828562, 0.02610436, 0.00690771, 0.07198817,\n",
       "       0.00844751, 0.96741189, 0.01248764, 0.01939406, 0.00978392,\n",
       "       0.81581162, 0.00744474, 0.99323799, 0.2135875 , 0.13281833,\n",
       "       0.00833478, 0.91845288, 0.00808429, 0.98626946, 0.99616207,\n",
       "       0.00831226, 0.08901106, 0.99323799, 0.01260316, 0.9813602 ,\n",
       "       0.91270554, 0.31813764, 0.02691396, 0.00918362, 0.10102597,\n",
       "       0.53595724, 0.01683681, 0.00744474, 0.99165366, 0.02602257,\n",
       "       0.81291741, 0.04286489, 0.12333735, 0.07368815, 0.98847529,\n",
       "       0.06019331, 0.99276728, 0.01093334, 0.02574878, 0.99236528,\n",
       "       0.99203078, 0.00888113, 0.00690771, 0.99252994, 0.00710214,\n",
       "       0.98731192, 0.99017478, 0.00511864, 0.99383555, 0.99323799,\n",
       "       0.02256091, 0.09762874, 0.99549498, 0.99383684, 0.99408166,\n",
       "       0.02187921, 0.00548047, 0.02140763, 0.00863066, 0.97530942,\n",
       "       0.012501  , 0.95980012, 0.99574992, 0.99165366, 0.81563819,\n",
       "       0.00559019, 0.00657121, 0.12315223, 0.08353195, 0.03180249,\n",
       "       0.01675487, 0.00913194, 0.02851937, 0.97745897, 0.99239158,\n",
       "       0.45035484, 0.00813434, 0.98612695, 0.02701906, 0.00873704,\n",
       "       0.00881286, 0.04380714, 0.00881369, 0.97579019, 0.00985661,\n",
       "       0.0217888 , 0.99276728, 0.98700848, 0.01055062, 0.95668643,\n",
       "       0.01840054, 0.99383555, 0.03627096, 0.01768963, 0.01217769,\n",
       "       0.01053197, 0.1744439 , 0.0180072 , 0.98247506, 0.01368769,\n",
       "       0.08081254, 0.97126919, 0.08976317, 0.01394344, 0.00598395,\n",
       "       0.0392639 , 0.01554006, 0.08897845, 0.99288524, 0.04398557,\n",
       "       0.10149278, 0.97776948, 0.02432845, 0.99066098, 0.98334576,\n",
       "       0.99273576, 0.03052983, 0.96695509, 0.11028122, 0.00744966,\n",
       "       0.99239017, 0.99323799, 0.99323799, 0.01495857, 0.00833478,\n",
       "       0.0087299 , 0.02126135, 0.12102707, 0.02620576, 0.00983823,\n",
       "       0.99276728, 0.01328138, 0.00810512, 0.16263147, 0.97492984,\n",
       "       0.00936119, 0.02231118, 0.98458082, 0.63486301, 0.00643408,\n",
       "       0.99074599, 0.00833478, 0.99309443, 0.99203078, 0.01464492,\n",
       "       0.01232515, 0.98700848, 0.02806944, 0.96488613, 0.99276728,\n",
       "       0.02425696, 0.98483493, 0.81754145, 0.00822506, 0.07560945,\n",
       "       0.96631871, 0.01963025, 0.88701864, 0.00666964, 0.01605815,\n",
       "       0.9381568 , 0.01107553, 0.13593012, 0.94805001, 0.99323799,\n",
       "       0.99414146, 0.05067737, 0.01013987, 0.02136343, 0.98193712,\n",
       "       0.98074389, 0.01177428, 0.98674495, 0.99307528, 0.01840365,\n",
       "       0.03043266, 0.00678976, 0.99500668, 0.01351627, 0.98012298,\n",
       "       0.98353973, 0.99421712, 0.30069586, 0.09912905, 0.02661594,\n",
       "       0.97865057, 0.01082455, 0.00896993, 0.98758634, 0.99309443,\n",
       "       0.96991345, 0.9774388 , 0.36611418, 0.90336217, 0.00990518,\n",
       "       0.00789953, 0.03124499, 0.01028287, 0.01073785, 0.01195714,\n",
       "       0.01329844, 0.99414146, 0.99625253, 0.88809106, 0.95517672,\n",
       "       0.01194396, 0.05183592, 0.01195714, 0.05219163, 0.99508532,\n",
       "       0.05400184, 0.96708082, 0.01335094, 0.00938838, 0.02018597,\n",
       "       0.02072449, 0.03376942, 0.99072166, 0.95465708, 0.9274273 ,\n",
       "       0.00710214, 0.0096888 , 0.97523918, 0.13969738, 0.01139422,\n",
       "       0.99299611, 0.88259918, 0.99239017, 0.98177121, 0.01153405,\n",
       "       0.02098825, 0.72891132, 0.99203078, 0.03893139, 0.02308752,\n",
       "       0.01242206, 0.99276728, 0.73906839, 0.99625253, 0.00521362,\n",
       "       0.00804192, 0.84595254, 0.00939458, 0.00880394, 0.00897247,\n",
       "       0.00831775, 0.99383555, 0.23846768, 0.085133  , 0.0392639 ,\n",
       "       0.04864056, 0.0060866 , 0.01306486, 0.01019354, 0.01355808,\n",
       "       0.0114663 , 0.99535002, 0.00548047, 0.00521362, 0.02851937,\n",
       "       0.04557838, 0.00744474, 0.11006813, 0.65686452, 0.37157259,\n",
       "       0.17639927, 0.99276728, 0.01054315, 0.00878173, 0.83931718,\n",
       "       0.97321751, 0.99165366, 0.03990024, 0.97822458, 0.98376813,\n",
       "       0.05496344, 0.98809285, 0.01073785, 0.00897052, 0.04116384,\n",
       "       0.0180072 , 0.96743273, 0.02874062])"
      ]
     },
     "execution_count": 17,
     "metadata": {},
     "output_type": "execute_result"
    }
   ],
   "source": [
    "previsoes_treino = lgbm.predict(X_esc_treino)\n",
    "previsoes_treino"
   ]
  },
  {
   "cell_type": "code",
   "execution_count": 18,
   "metadata": {},
   "outputs": [
    {
     "data": {
      "text/plain": [
       "(398,)"
      ]
     },
     "execution_count": 18,
     "metadata": {},
     "output_type": "execute_result"
    }
   ],
   "source": [
    "previsoes_treino.shape"
   ]
  },
  {
   "cell_type": "code",
   "execution_count": 19,
   "metadata": {},
   "outputs": [],
   "source": [
    "# Quando for menor que 5 considera 0 e quando for maior ou igual a 5 considera 1\n",
    "for i in range(0, 398):\n",
    "    if previsoes_treino[i] >= .5:\n",
    "       previsoes_treino[i] = 1\n",
    "    else:\n",
    "       previsoes_treino[i] = 0"
   ]
  },
  {
   "cell_type": "code",
   "execution_count": 20,
   "metadata": {},
   "outputs": [
    {
     "data": {
      "text/plain": [
       "array([0., 0., 0., 0., 0., 1., 0., 0., 0., 0., 0., 0., 1., 1., 1., 0., 0.,\n",
       "       1., 0., 1., 0., 0., 0., 0., 1., 0., 0., 1., 0., 0., 0., 1., 0., 1.,\n",
       "       1., 0., 0., 0., 1., 0., 0., 0., 0., 1., 0., 0., 0., 0., 0., 1., 0.,\n",
       "       1., 1., 0., 0., 1., 0., 0., 0., 0., 0., 0., 0., 1., 1., 1., 0., 0.,\n",
       "       1., 0., 0., 1., 0., 1., 0., 1., 0., 1., 0., 0., 1., 0., 0., 0., 1.,\n",
       "       0., 1., 0., 1., 0., 1., 0., 0., 1., 0., 0., 0., 0., 1., 0., 0., 0.,\n",
       "       1., 0., 0., 1., 0., 0., 1., 0., 0., 0., 0., 0., 0., 0., 1., 0., 0.,\n",
       "       0., 1., 0., 1., 0., 0., 0., 1., 0., 1., 1., 0., 0., 1., 0., 1., 1.,\n",
       "       0., 0., 0., 0., 1., 0., 0., 1., 0., 1., 0., 0., 0., 1., 0., 1., 0.,\n",
       "       0., 1., 1., 0., 0., 1., 0., 1., 1., 0., 1., 1., 0., 0., 1., 1., 1.,\n",
       "       0., 0., 0., 0., 1., 0., 1., 1., 1., 1., 0., 0., 0., 0., 0., 0., 0.,\n",
       "       0., 1., 1., 0., 0., 1., 0., 0., 0., 0., 0., 1., 0., 0., 1., 1., 0.,\n",
       "       1., 0., 1., 0., 0., 0., 0., 0., 0., 1., 0., 0., 1., 0., 0., 0., 0.,\n",
       "       0., 0., 1., 0., 0., 1., 0., 1., 1., 1., 0., 1., 0., 0., 1., 1., 1.,\n",
       "       0., 0., 0., 0., 0., 0., 0., 1., 0., 0., 0., 1., 0., 0., 1., 1., 0.,\n",
       "       1., 0., 1., 1., 0., 0., 1., 0., 1., 1., 0., 1., 1., 0., 0., 1., 0.,\n",
       "       1., 0., 0., 1., 0., 0., 1., 1., 1., 0., 0., 0., 1., 1., 0., 1., 1.,\n",
       "       0., 0., 0., 1., 0., 1., 1., 1., 0., 0., 0., 1., 0., 0., 1., 1., 1.,\n",
       "       1., 0., 1., 0., 0., 0., 0., 0., 0., 0., 1., 1., 1., 1., 0., 0., 0.,\n",
       "       0., 1., 0., 1., 0., 0., 0., 0., 0., 1., 1., 1., 0., 0., 1., 0., 0.,\n",
       "       1., 1., 1., 1., 0., 0., 1., 1., 0., 0., 0., 1., 1., 1., 0., 0., 1.,\n",
       "       0., 0., 0., 0., 1., 0., 0., 0., 0., 0., 0., 0., 0., 0., 1., 0., 0.,\n",
       "       0., 0., 0., 0., 1., 0., 0., 1., 0., 0., 1., 1., 1., 0., 1., 1., 0.,\n",
       "       1., 0., 0., 0., 0., 1., 0.])"
      ]
     },
     "execution_count": 20,
     "metadata": {},
     "output_type": "execute_result"
    }
   ],
   "source": [
    "previsoes_treino\n"
   ]
  },
  {
   "cell_type": "code",
   "execution_count": 21,
   "metadata": {},
   "outputs": [
    {
     "name": "stdout",
     "output_type": "stream",
     "text": [
      "Acurácia: 99.25%\n"
     ]
    }
   ],
   "source": [
    "print(\"Acurácia: %.2f%%\" % (accuracy_score(Y_treino, previsoes_treino) * 100.0))"
   ]
  },
  {
   "cell_type": "code",
   "execution_count": 22,
   "metadata": {},
   "outputs": [
    {
     "data": {
      "text/plain": [
       "array([[249,   0],\n",
       "       [  3, 146]])"
      ]
     },
     "execution_count": 22,
     "metadata": {},
     "output_type": "execute_result"
    }
   ],
   "source": [
    "confusion_matrix(Y_treino, previsoes_treino)"
   ]
  },
  {
   "cell_type": "markdown",
   "metadata": {},
   "source": [
    "### Validação Cruzada"
   ]
  },
  {
   "cell_type": "code",
   "execution_count": 23,
   "metadata": {},
   "outputs": [],
   "source": [
    "# Separando os dados em folds\n",
    "kfold = KFold(n_splits = 30, shuffle=True, random_state = 5)"
   ]
  },
  {
   "cell_type": "code",
   "execution_count": 24,
   "metadata": {},
   "outputs": [],
   "source": [
    "# Criando o modelo\n",
    "modelo = lgb.LGBMClassifier(num_leaves = 250, objective = 'binary',\n",
    "                            max_depth = 2, learning_rate = .05, max_bin =100)"
   ]
  },
  {
   "cell_type": "code",
   "execution_count": 25,
   "metadata": {},
   "outputs": [
    {
     "name": "stdout",
     "output_type": "stream",
     "text": [
      "[LightGBM] [Info] Number of positive: 143, number of negative: 241\n",
      "[LightGBM] [Info] Auto-choosing col-wise multi-threading, the overhead of testing was 0.000234 seconds.\n",
      "You can set `force_col_wise=true` to remove the overhead.\n",
      "[LightGBM] [Info] Total Bins 3000\n",
      "[LightGBM] [Info] Number of data points in the train set: 384, number of used features: 30\n",
      "[LightGBM] [Info] [binary:BoostFromScore]: pavg=0.372396 -> initscore=-0.521952\n",
      "[LightGBM] [Info] Start training from score -0.521952\n",
      "[LightGBM] [Info] Number of positive: 142, number of negative: 242\n",
      "[LightGBM] [Info] Auto-choosing col-wise multi-threading, the overhead of testing was 0.000135 seconds.\n",
      "You can set `force_col_wise=true` to remove the overhead.\n",
      "[LightGBM] [Info] Total Bins 3000\n",
      "[LightGBM] [Info] Number of data points in the train set: 384, number of used features: 30\n",
      "[LightGBM] [Info] [binary:BoostFromScore]: pavg=0.369792 -> initscore=-0.533111\n",
      "[LightGBM] [Info] Start training from score -0.533111\n",
      "[LightGBM] [Info] Number of positive: 145, number of negative: 239\n",
      "[LightGBM] [Info] Auto-choosing col-wise multi-threading, the overhead of testing was 0.000193 seconds.\n",
      "You can set `force_col_wise=true` to remove the overhead.\n",
      "[LightGBM] [Info] Total Bins 3000\n",
      "[LightGBM] [Info] Number of data points in the train set: 384, number of used features: 30\n",
      "[LightGBM] [Info] [binary:BoostFromScore]: pavg=0.377604 -> initscore=-0.499730\n",
      "[LightGBM] [Info] Start training from score -0.499730\n",
      "[LightGBM] [Info] Number of positive: 144, number of negative: 240\n",
      "[LightGBM] [Info] Auto-choosing col-wise multi-threading, the overhead of testing was 0.000249 seconds.\n",
      "You can set `force_col_wise=true` to remove the overhead.\n",
      "[LightGBM] [Info] Total Bins 3000\n",
      "[LightGBM] [Info] Number of data points in the train set: 384, number of used features: 30\n",
      "[LightGBM] [Info] [binary:BoostFromScore]: pavg=0.375000 -> initscore=-0.510826\n",
      "[LightGBM] [Info] Start training from score -0.510826\n",
      "[LightGBM] [Info] Number of positive: 146, number of negative: 238\n",
      "[LightGBM] [Info] Auto-choosing col-wise multi-threading, the overhead of testing was 0.000121 seconds.\n",
      "You can set `force_col_wise=true` to remove the overhead.\n",
      "[LightGBM] [Info] Total Bins 3000\n",
      "[LightGBM] [Info] Number of data points in the train set: 384, number of used features: 30\n",
      "[LightGBM] [Info] [binary:BoostFromScore]: pavg=0.380208 -> initscore=-0.488664\n",
      "[LightGBM] [Info] Start training from score -0.488664\n",
      "[LightGBM] [Info] Number of positive: 146, number of negative: 238\n",
      "[LightGBM] [Info] Auto-choosing col-wise multi-threading, the overhead of testing was 0.000269 seconds.\n",
      "You can set `force_col_wise=true` to remove the overhead.\n",
      "[LightGBM] [Info] Total Bins 3000\n",
      "[LightGBM] [Info] Number of data points in the train set: 384, number of used features: 30\n",
      "[LightGBM] [Info] [binary:BoostFromScore]: pavg=0.380208 -> initscore=-0.488664\n",
      "[LightGBM] [Info] Start training from score -0.488664\n",
      "[LightGBM] [Info] Number of positive: 143, number of negative: 241\n",
      "[LightGBM] [Info] Auto-choosing col-wise multi-threading, the overhead of testing was 0.000191 seconds.\n",
      "You can set `force_col_wise=true` to remove the overhead.\n",
      "[LightGBM] [Info] Total Bins 3000\n",
      "[LightGBM] [Info] Number of data points in the train set: 384, number of used features: 30\n",
      "[LightGBM] [Info] [binary:BoostFromScore]: pavg=0.372396 -> initscore=-0.521952\n",
      "[LightGBM] [Info] Start training from score -0.521952\n",
      "[LightGBM] [Info] Number of positive: 144, number of negative: 240\n",
      "[LightGBM] [Info] Auto-choosing col-wise multi-threading, the overhead of testing was 0.000126 seconds.\n",
      "You can set `force_col_wise=true` to remove the overhead.\n",
      "[LightGBM] [Info] Total Bins 3000\n",
      "[LightGBM] [Info] Number of data points in the train set: 384, number of used features: 30\n",
      "[LightGBM] [Info] [binary:BoostFromScore]: pavg=0.375000 -> initscore=-0.510826\n",
      "[LightGBM] [Info] Start training from score -0.510826\n",
      "[LightGBM] [Info] Number of positive: 143, number of negative: 242\n",
      "[LightGBM] [Info] Auto-choosing col-wise multi-threading, the overhead of testing was 0.000138 seconds.\n",
      "You can set `force_col_wise=true` to remove the overhead.\n",
      "[LightGBM] [Info] Total Bins 3000\n",
      "[LightGBM] [Info] Number of data points in the train set: 385, number of used features: 30\n",
      "[LightGBM] [Info] [binary:BoostFromScore]: pavg=0.371429 -> initscore=-0.526093\n",
      "[LightGBM] [Info] Start training from score -0.526093\n",
      "[LightGBM] [Info] Number of positive: 147, number of negative: 238\n",
      "[LightGBM] [Info] Auto-choosing col-wise multi-threading, the overhead of testing was 0.000209 seconds.\n",
      "You can set `force_col_wise=true` to remove the overhead.\n",
      "[LightGBM] [Info] Total Bins 3000\n",
      "[LightGBM] [Info] Number of data points in the train set: 385, number of used features: 30\n",
      "[LightGBM] [Info] [binary:BoostFromScore]: pavg=0.381818 -> initscore=-0.481838\n",
      "[LightGBM] [Info] Start training from score -0.481838\n",
      "[LightGBM] [Info] Number of positive: 145, number of negative: 240\n",
      "[LightGBM] [Info] Auto-choosing col-wise multi-threading, the overhead of testing was 0.000248 seconds.\n",
      "You can set `force_col_wise=true` to remove the overhead.\n",
      "[LightGBM] [Info] Total Bins 3000\n",
      "[LightGBM] [Info] Number of data points in the train set: 385, number of used features: 30\n",
      "[LightGBM] [Info] [binary:BoostFromScore]: pavg=0.376623 -> initscore=-0.503905\n",
      "[LightGBM] [Info] Start training from score -0.503905\n",
      "[LightGBM] [Info] Number of positive: 141, number of negative: 244\n",
      "[LightGBM] [Info] Auto-choosing col-wise multi-threading, the overhead of testing was 0.000193 seconds.\n",
      "You can set `force_col_wise=true` to remove the overhead.\n",
      "[LightGBM] [Info] Total Bins 3000\n",
      "[LightGBM] [Info] Number of data points in the train set: 385, number of used features: 30\n",
      "[LightGBM] [Info] [binary:BoostFromScore]: pavg=0.366234 -> initscore=-0.548408\n",
      "[LightGBM] [Info] Start training from score -0.548408\n",
      "[LightGBM] [Info] Number of positive: 143, number of negative: 242\n",
      "[LightGBM] [Info] Auto-choosing col-wise multi-threading, the overhead of testing was 0.000259 seconds.\n",
      "You can set `force_col_wise=true` to remove the overhead.\n",
      "[LightGBM] [Info] Total Bins 3000\n",
      "[LightGBM] [Info] Number of data points in the train set: 385, number of used features: 30\n",
      "[LightGBM] [Info] [binary:BoostFromScore]: pavg=0.371429 -> initscore=-0.526093\n",
      "[LightGBM] [Info] Start training from score -0.526093\n",
      "[LightGBM] [Info] Number of positive: 147, number of negative: 238\n",
      "[LightGBM] [Info] Auto-choosing col-wise multi-threading, the overhead of testing was 0.000200 seconds.\n",
      "You can set `force_col_wise=true` to remove the overhead.\n",
      "[LightGBM] [Info] Total Bins 3000\n",
      "[LightGBM] [Info] Number of data points in the train set: 385, number of used features: 30\n",
      "[LightGBM] [Info] [binary:BoostFromScore]: pavg=0.381818 -> initscore=-0.481838\n",
      "[LightGBM] [Info] Start training from score -0.481838\n",
      "[LightGBM] [Info] Number of positive: 142, number of negative: 243\n",
      "[LightGBM] [Info] Auto-choosing col-wise multi-threading, the overhead of testing was 0.000204 seconds.\n",
      "You can set `force_col_wise=true` to remove the overhead.\n",
      "[LightGBM] [Info] Total Bins 3000\n",
      "[LightGBM] [Info] Number of data points in the train set: 385, number of used features: 30\n",
      "[LightGBM] [Info] [binary:BoostFromScore]: pavg=0.368831 -> initscore=-0.537234\n",
      "[LightGBM] [Info] Start training from score -0.537234\n",
      "[LightGBM] [Info] Number of positive: 144, number of negative: 241\n",
      "[LightGBM] [Info] Auto-choosing col-wise multi-threading, the overhead of testing was 0.000223 seconds.\n",
      "You can set `force_col_wise=true` to remove the overhead.\n",
      "[LightGBM] [Info] Total Bins 3000\n",
      "[LightGBM] [Info] Number of data points in the train set: 385, number of used features: 30\n",
      "[LightGBM] [Info] [binary:BoostFromScore]: pavg=0.374026 -> initscore=-0.514984\n",
      "[LightGBM] [Info] Start training from score -0.514984\n",
      "[LightGBM] [Info] Number of positive: 143, number of negative: 242\n",
      "[LightGBM] [Info] Auto-choosing col-wise multi-threading, the overhead of testing was 0.000202 seconds.\n",
      "You can set `force_col_wise=true` to remove the overhead.\n",
      "[LightGBM] [Info] Total Bins 3000\n",
      "[LightGBM] [Info] Number of data points in the train set: 385, number of used features: 30\n",
      "[LightGBM] [Info] [binary:BoostFromScore]: pavg=0.371429 -> initscore=-0.526093\n",
      "[LightGBM] [Info] Start training from score -0.526093\n",
      "[LightGBM] [Info] Number of positive: 145, number of negative: 240\n",
      "[LightGBM] [Info] Auto-choosing col-wise multi-threading, the overhead of testing was 0.000211 seconds.\n",
      "You can set `force_col_wise=true` to remove the overhead.\n",
      "[LightGBM] [Info] Total Bins 3000\n",
      "[LightGBM] [Info] Number of data points in the train set: 385, number of used features: 30\n",
      "[LightGBM] [Info] [binary:BoostFromScore]: pavg=0.376623 -> initscore=-0.503905\n",
      "[LightGBM] [Info] Start training from score -0.503905\n",
      "[LightGBM] [Info] Number of positive: 142, number of negative: 243\n",
      "[LightGBM] [Info] Auto-choosing row-wise multi-threading, the overhead of testing was 0.000101 seconds.\n",
      "You can set `force_row_wise=true` to remove the overhead.\n",
      "And if memory is not enough, you can set `force_col_wise=true`.\n",
      "[LightGBM] [Info] Total Bins 3000\n",
      "[LightGBM] [Info] Number of data points in the train set: 385, number of used features: 30\n",
      "[LightGBM] [Info] [binary:BoostFromScore]: pavg=0.368831 -> initscore=-0.537234\n",
      "[LightGBM] [Info] Start training from score -0.537234\n",
      "[LightGBM] [Info] Number of positive: 145, number of negative: 240\n",
      "[LightGBM] [Info] Auto-choosing col-wise multi-threading, the overhead of testing was 0.000338 seconds.\n",
      "You can set `force_col_wise=true` to remove the overhead.\n",
      "[LightGBM] [Info] Total Bins 3000\n",
      "[LightGBM] [Info] Number of data points in the train set: 385, number of used features: 30\n",
      "[LightGBM] [Info] [binary:BoostFromScore]: pavg=0.376623 -> initscore=-0.503905\n",
      "[LightGBM] [Info] Start training from score -0.503905\n",
      "[LightGBM] [Info] Number of positive: 144, number of negative: 241\n",
      "[LightGBM] [Info] Auto-choosing col-wise multi-threading, the overhead of testing was 0.000121 seconds.\n",
      "You can set `force_col_wise=true` to remove the overhead.\n",
      "[LightGBM] [Info] Total Bins 3000\n",
      "[LightGBM] [Info] Number of data points in the train set: 385, number of used features: 30\n",
      "[LightGBM] [Info] [binary:BoostFromScore]: pavg=0.374026 -> initscore=-0.514984\n",
      "[LightGBM] [Info] Start training from score -0.514984\n",
      "[LightGBM] [Info] Number of positive: 144, number of negative: 241\n",
      "[LightGBM] [Info] Auto-choosing col-wise multi-threading, the overhead of testing was 0.000202 seconds.\n",
      "You can set `force_col_wise=true` to remove the overhead.\n",
      "[LightGBM] [Info] Total Bins 3000\n",
      "[LightGBM] [Info] Number of data points in the train set: 385, number of used features: 30\n",
      "[LightGBM] [Info] [binary:BoostFromScore]: pavg=0.374026 -> initscore=-0.514984\n",
      "[LightGBM] [Info] Start training from score -0.514984\n",
      "[LightGBM] [Info] Number of positive: 146, number of negative: 239\n",
      "[LightGBM] [Info] Auto-choosing col-wise multi-threading, the overhead of testing was 0.000195 seconds.\n",
      "You can set `force_col_wise=true` to remove the overhead.\n",
      "[LightGBM] [Info] Total Bins 3000\n",
      "[LightGBM] [Info] Number of data points in the train set: 385, number of used features: 30\n",
      "[LightGBM] [Info] [binary:BoostFromScore]: pavg=0.379221 -> initscore=-0.492857\n",
      "[LightGBM] [Info] Start training from score -0.492857\n",
      "[LightGBM] [Info] Number of positive: 142, number of negative: 243\n",
      "[LightGBM] [Info] Auto-choosing col-wise multi-threading, the overhead of testing was 0.000121 seconds.\n",
      "You can set `force_col_wise=true` to remove the overhead.\n",
      "[LightGBM] [Info] Total Bins 3000\n",
      "[LightGBM] [Info] Number of data points in the train set: 385, number of used features: 30\n",
      "[LightGBM] [Info] [binary:BoostFromScore]: pavg=0.368831 -> initscore=-0.537234\n",
      "[LightGBM] [Info] Start training from score -0.537234\n",
      "[LightGBM] [Info] Number of positive: 146, number of negative: 239\n",
      "[LightGBM] [Info] Auto-choosing col-wise multi-threading, the overhead of testing was 0.000198 seconds.\n",
      "You can set `force_col_wise=true` to remove the overhead.\n",
      "[LightGBM] [Info] Total Bins 3000\n",
      "[LightGBM] [Info] Number of data points in the train set: 385, number of used features: 30\n",
      "[LightGBM] [Info] [binary:BoostFromScore]: pavg=0.379221 -> initscore=-0.492857\n",
      "[LightGBM] [Info] Start training from score -0.492857\n",
      "[LightGBM] [Info] Number of positive: 146, number of negative: 239\n",
      "[LightGBM] [Info] Auto-choosing col-wise multi-threading, the overhead of testing was 0.000674 seconds.\n",
      "You can set `force_col_wise=true` to remove the overhead.\n",
      "[LightGBM] [Info] Total Bins 3000\n",
      "[LightGBM] [Info] Number of data points in the train set: 385, number of used features: 30\n",
      "[LightGBM] [Info] [binary:BoostFromScore]: pavg=0.379221 -> initscore=-0.492857\n",
      "[LightGBM] [Info] Start training from score -0.492857\n",
      "[LightGBM] [Info] Number of positive: 140, number of negative: 245\n",
      "[LightGBM] [Info] Auto-choosing col-wise multi-threading, the overhead of testing was 0.000144 seconds.\n",
      "You can set `force_col_wise=true` to remove the overhead.\n",
      "[LightGBM] [Info] Total Bins 3000\n",
      "[LightGBM] [Info] Number of data points in the train set: 385, number of used features: 30\n",
      "[LightGBM] [Info] [binary:BoostFromScore]: pavg=0.363636 -> initscore=-0.559616\n",
      "[LightGBM] [Info] Start training from score -0.559616\n",
      "[LightGBM] [Info] Number of positive: 145, number of negative: 240\n",
      "[LightGBM] [Info] Auto-choosing col-wise multi-threading, the overhead of testing was 0.000120 seconds.\n",
      "You can set `force_col_wise=true` to remove the overhead.\n",
      "[LightGBM] [Info] Total Bins 3000\n",
      "[LightGBM] [Info] Number of data points in the train set: 385, number of used features: 30\n",
      "[LightGBM] [Info] [binary:BoostFromScore]: pavg=0.376623 -> initscore=-0.503905\n",
      "[LightGBM] [Info] Start training from score -0.503905\n",
      "[LightGBM] [Info] Number of positive: 145, number of negative: 240\n",
      "[LightGBM] [Info] Auto-choosing col-wise multi-threading, the overhead of testing was 0.000199 seconds.\n",
      "You can set `force_col_wise=true` to remove the overhead.\n",
      "[LightGBM] [Info] Total Bins 3000\n",
      "[LightGBM] [Info] Number of data points in the train set: 385, number of used features: 30\n",
      "[LightGBM] [Info] [binary:BoostFromScore]: pavg=0.376623 -> initscore=-0.503905\n",
      "[LightGBM] [Info] Start training from score -0.503905\n",
      "[LightGBM] [Info] Number of positive: 143, number of negative: 242\n",
      "[LightGBM] [Info] Auto-choosing col-wise multi-threading, the overhead of testing was 0.000120 seconds.\n",
      "You can set `force_col_wise=true` to remove the overhead.\n",
      "[LightGBM] [Info] Total Bins 3000\n",
      "[LightGBM] [Info] Number of data points in the train set: 385, number of used features: 30\n",
      "[LightGBM] [Info] [binary:BoostFromScore]: pavg=0.371429 -> initscore=-0.526093\n",
      "[LightGBM] [Info] Start training from score -0.526093\n"
     ]
    },
    {
     "data": {
      "text/plain": [
       "array([0.85714286, 1.        , 0.92857143, 0.92857143, 1.        ,\n",
       "       0.92857143, 1.        , 1.        , 1.        , 0.92307692,\n",
       "       1.        , 0.92307692, 0.92307692, 0.92307692, 1.        ,\n",
       "       1.        , 1.        , 0.92307692, 1.        , 1.        ,\n",
       "       0.92307692, 0.92307692, 1.        , 1.        , 1.        ,\n",
       "       1.        , 0.84615385, 0.84615385, 1.        , 1.        ])"
      ]
     },
     "execution_count": 25,
     "metadata": {},
     "output_type": "execute_result"
    }
   ],
   "source": [
    "resultado = cross_val_score(modelo, X_esc_treino, Y_treino, cv = kfold)\n",
    "resultado"
   ]
  },
  {
   "cell_type": "code",
   "execution_count": 26,
   "metadata": {},
   "outputs": [
    {
     "name": "stdout",
     "output_type": "stream",
     "text": [
      "Acurácia Média: 95.99%\n"
     ]
    }
   ],
   "source": [
    "# Usamos a média e o desvio padrão\n",
    "print(\"Acurácia Média: %.2f%%\" % (resultado.mean() * 100.0))"
   ]
  },
  {
   "cell_type": "markdown",
   "metadata": {},
   "source": [
    "##### LightGBM = 96.49% (treino e teste) e 95.99% (validação cruzada) - previsores - lgb.LGBMClassifier(num_leaves = 250, objective = 'binary', max_depth = 2, learning_rate = .05, max_bin =100)"
   ]
  },
  {
   "cell_type": "markdown",
   "metadata": {},
   "source": []
  }
 ],
 "metadata": {
  "kernelspec": {
   "display_name": "dsa",
   "language": "python",
   "name": "python3"
  },
  "language_info": {
   "codemirror_mode": {
    "name": "ipython",
    "version": 3
   },
   "file_extension": ".py",
   "mimetype": "text/x-python",
   "name": "python",
   "nbconvert_exporter": "python",
   "pygments_lexer": "ipython3",
   "version": "3.11.8"
  }
 },
 "nbformat": 4,
 "nbformat_minor": 2
}
